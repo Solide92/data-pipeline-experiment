{
 "cells": [
  {
   "cell_type": "markdown",
   "id": "c794e978-aea2-42e1-8382-8ca37393d62c",
   "metadata": {},
   "source": [
    "# Data Pipeline Experiment\n",
    "\n",
    "Make sure to open a terminal in the Jupyter server and run `pip install -r requirements.txt` before running things."
   ]
  },
  {
   "cell_type": "code",
   "execution_count": 7,
   "id": "24492379-ca63-4a6b-b273-3a4ef19ebd8a",
   "metadata": {
    "tags": []
   },
   "outputs": [
    {
     "name": "stdout",
     "output_type": "stream",
     "text": [
      "count of tweets fetched: 10\n",
      "[1510521617356632072, \"RT @TheSequenceAI: CS109A Data Science course materials @Harvard are free and open for everyone!\\n\\n1. Lecture notes\\n2. R code, Python notebo\\u2026\"]\n",
      "[1510522205083693062, \"RT @SyedSaddiq: Saya doakan Yasin dapat pembelaan yang terbaik di mahkamah.\\n\\nPendirian saya tidak berubah.\\n\\nWe should legalise Medical cann\\u2026\"]\n",
      "[1510522219763576838, \"RT @omardaair: Cool to attend the launch of the Centre for The Fourth Industrial Revolution, #Rwanda! A lot of energy in this sector right\\u2026\"]\n",
      "[1510522559153901569, \"\\u27a5\\n\\u2727Read Online\\u2727\\n\\u221e status ready \\u221e \\n\\u2723\\u2740Data Science from Scratch: First Principles with Python by Unknown https://t.co/jbhTnkfzHa\"]\n",
      "[1510522573624205318, \"@SilicaHydrated @e_chiswell @Nigel_ITBassest @jk_rowling thats what happens when a movement is backed up by posh opinion columnists instead of people with real life experience or working in a range of fields. no science, no data, no heartfelt solidarity, no knowledge or learning. just regurgitating everyone's least fave news section.\"]\n",
      "[1510522812531945474, \"RT @ICES_ASC: Join our team in Copenhagen!\\n\\ud83d\\udc4b We are recruiting for 3 positions\\n\\u200bAdvice &amp; Data Analyst\\u200b - deadline: 24 April\\nScience Departm\\u2026\"]\n",
      "[1510522821977714689, \"Omnirio is looking for a data science intern \\nhttps://t.co/XxNgX3FTRm @internfinder\"]\n",
      "[1510522830131146759, \"RT @SerikatMagang: 3. Simplilearn Digital Marketing++\\nBanyak topik course lainnya juga mulai data science, analytics, leadership, dll. Ada\\u2026\"]\n",
      "[1510522849274077189, \"RT @TheSequenceAI: CS109A Data Science course materials @Harvard are free and open for everyone!\\n\\n1. Lecture notes\\n2. R code, Python notebo\\u2026\"]\n",
      "[1510522871331708928, \"RT @SerikatMagang: 5. Kaggle Data Science\\nIni dia tempatnya para data scientist dan analyst ngumpul, sambil belajar bisa sekalian networkin\\u2026\"]\n",
      "done!\n"
     ]
    }
   ],
   "source": [
    "import json\n",
    "\n",
    "import mysql.connector\n",
    "\n",
    "connection = mysql.connector.connect(\n",
    "        host=\"database\",\n",
    "        user=\"root\",\n",
    "        password=\"testdb\",\n",
    "        database=\"twitter\"\n",
    "    )\n",
    "cursor = connection.cursor()\n",
    "\n",
    "cursor.execute('select * from tweets')\n",
    "tweets = cursor.fetchall()\n",
    "print(f'count of tweets fetched: {len(tweets)}')\n",
    "for result in tweets:\n",
    "    print(json.dumps(result))\n",
    "print('done!')"
   ]
  },
  {
   "cell_type": "code",
   "execution_count": null,
   "id": "0c3d295a-3ff7-4294-9fd7-5f4f48bb916f",
   "metadata": {},
   "outputs": [],
   "source": []
  }
 ],
 "metadata": {
  "kernelspec": {
   "display_name": "Python 3 (ipykernel)",
   "language": "python",
   "name": "python3"
  },
  "language_info": {
   "codemirror_mode": {
    "name": "ipython",
    "version": 3
   },
   "file_extension": ".py",
   "mimetype": "text/x-python",
   "name": "python",
   "nbconvert_exporter": "python",
   "pygments_lexer": "ipython3",
   "version": "3.9.7"
  }
 },
 "nbformat": 4,
 "nbformat_minor": 5
}
