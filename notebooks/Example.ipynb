{
 "cells": [
  {
   "cell_type": "markdown",
   "id": "c794e978-aea2-42e1-8382-8ca37393d62c",
   "metadata": {},
   "source": [
    "# Data Pipeline Experiment\n",
    "\n",
    "Make sure to open a terminal in the Jupyter server and run `pip install -r requirements.txt` before running things."
   ]
  },
  {
   "cell_type": "code",
   "execution_count": 4,
   "id": "24492379-ca63-4a6b-b273-3a4ef19ebd8a",
   "metadata": {
    "tags": []
   },
   "outputs": [
    {
     "name": "stdout",
     "output_type": "stream",
     "text": [
      "count of tweets fetched: 10\n",
      "[\n",
      "    1510398992982683652,\n",
      "    \"Saturday nite...\\n\\nS\\u00e1bado \\u00e0 noite...\\n\\n#UFC #ChuteBoxe https://t.co/C8j0ivIZmR\",\n",
      "    \"CharlesDoBronxs\",\n",
      "    1510398992982683652\n",
      "]\n",
      "[\n",
      "    1510401669284179972,\n",
      "    \"\\ud83d\\udea8\\ud83d\\udc4aNEW TAPPED OUT POD\\ud83d\\udc4a\\ud83d\\udea8\\n\\n\\ud83c\\udf99\\ufe0f @seanlevinekc &amp; @Brendan_Tobin \\n\\n\\ud83d\\udc4a @ReedWallach on #UFC 273\\n\\n\\ud83e\\udd4a @JRodShow on Boxing Landscape\\n\\n\\ud83d\\udd2e Previewing #UFC273\\n\\n\\ud83e\\udd2a #UFC Madness Bracket\\n\\n\\ud83c\\udfa7: https://t.co/rx9NdNtRSS https://t.co/pVz9IzvVjq\",\n",
      "    \"betqlapp\",\n",
      "    1510401669284179972\n",
      "]\n",
      "[\n",
      "    1510402430411972610,\n",
      "    \"RT @betqlapp: \\ud83d\\udea8\\ud83d\\udc4aNEW TAPPED OUT POD\\ud83d\\udc4a\\ud83d\\udea8\\n\\n\\ud83c\\udf99\\ufe0f @seanlevinekc &amp; @Brendan_Tobin \\n\\n\\ud83d\\udc4a @ReedWallach on #UFC 273\\n\\n\\ud83e\\udd4a @JRodShow on Boxing Landscape\\n\\n\\ud83d\\udd2e Pr\\u2026\",\n",
      "    \"Brendan_Tobin\",\n",
      "    1510402430411972610\n",
      "]\n",
      "[\n",
      "    1510414284655931392,\n",
      "    \"Is Summer the perfect time for @JonnyBones 'return?\\n\\n#jonjones #ufc\\n\\nhttps://t.co/7NWzvvmkpd\",\n",
      "    \"es_sportsnews\",\n",
      "    1510414284655931392\n",
      "]\n",
      "[\n",
      "    1510415387648798727,\n",
      "    \"We back on track baby!! @sashapalatnikovmma picks up a big 1st round TKO stoppage in @xmma.tv tonight!! Way to go brother!! \\n.\\n#team #syndicatemma #mma #ufc #neworleans @ The Fillmore New Orleans https://t.co/RtO53ugQ7u\",\n",
      "    \"bigwoodmma\",\n",
      "    1510415387648798727\n",
      "]\n",
      "[\n",
      "    1510416799694786568,\n",
      "    \"RT @bigwoodmma: We back on track baby!! @sashapalatnikovmma picks up a big 1st round TKO stoppage in @xmma.tv tonight!! Way to go brother!!\\u2026\",\n",
      "    \"CamchidaMMA\",\n",
      "    1510416799694786568\n",
      "]\n",
      "[\n",
      "    1510451051752734727,\n",
      "    \"RT @AgFightEspanol: #Exclusiva | Recuperado de la cirug\\u00eda, Herbert Burns (@HerbertBurnsMMA) elige a sus rivales favoritos para su regreso a\\u2026\",\n",
      "    \"HerbertBurnsMMA\",\n",
      "    1510451051752734727\n",
      "]\n",
      "[\n",
      "    1510456204429967363,\n",
      "    \"RT @NateLatshaw: 3/ Largest significant strike differential by a fighter in a #UFC bout in 2022\\n\\n1\\u20e3 +112 - @BobbyKGreen \\n2\\u20e3 +109 - @kingcas\\u2026\",\n",
      "    \"meanhakeemko\",\n",
      "    1510456204429967363\n",
      "]\n",
      "[\n",
      "    1510482913468461059,\n",
      "    \"Chillin tonight &amp; want some company? Let me &amp; @Renato_Laranja entertain you with the #TNFAfterParty! We talk #UFC, #actionmovies, #dating, #popculture &amp; more! Guaranteed laughs every episode! \\ud83d\\udc4a\\ud83c\\udf86\\ud83d\\ude01 https://t.co/t0WjXajRAY #MMA #fistivities #tnfistivities #MMAtwitter https://t.co/Ld98wcuIDH\",\n",
      "    \"KarynBryant\",\n",
      "    1510482913468461059\n",
      "]\n",
      "[\n",
      "    1510553662321475585,\n",
      "    \"There has been a late cancellation ahead of #UFC273 next weekend \\ud83d\\ude14\\n\\nKelvin Gastelum has been forced to remove himself from the event due to a hand injury.\\n\\n#UFC #MMA https://t.co/xyrGevmXGL\",\n",
      "    \"sportskeedaMMA\",\n",
      "    1510553662321475585\n",
      "]\n",
      "done!\n"
     ]
    }
   ],
   "source": [
    "import json\n",
    "\n",
    "import mysql.connector\n",
    "\n",
    "connection = mysql.connector.connect(\n",
    "        host=\"database\",\n",
    "        user=\"root\",\n",
    "        password=\"testdb\",\n",
    "        database=\"twitter\"\n",
    "    )\n",
    "cursor = connection.cursor()\n",
    "\n",
    "cursor.execute('select * from tweets')\n",
    "tweets = cursor.fetchall()\n",
    "print(f'count of tweets fetched: {len(tweets)}')\n",
    "for result in tweets:\n",
    "    print(json.dumps(result, indent=4))\n",
    "print('done!')"
   ]
  },
  {
   "cell_type": "code",
   "execution_count": null,
   "id": "1432a25d-4bc4-4c89-810a-feb616ffbe39",
   "metadata": {},
   "outputs": [],
   "source": []
  }
 ],
 "metadata": {
  "kernelspec": {
   "display_name": "Python 3 (ipykernel)",
   "language": "python",
   "name": "python3"
  },
  "language_info": {
   "codemirror_mode": {
    "name": "ipython",
    "version": 3
   },
   "file_extension": ".py",
   "mimetype": "text/x-python",
   "name": "python",
   "nbconvert_exporter": "python",
   "pygments_lexer": "ipython3",
   "version": "3.9.10"
  }
 },
 "nbformat": 4,
 "nbformat_minor": 5
}
